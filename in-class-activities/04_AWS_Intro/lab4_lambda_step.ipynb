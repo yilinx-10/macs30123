{
 "cells": [
  {
   "cell_type": "code",
   "execution_count": 1,
   "metadata": {},
   "outputs": [],
   "source": [
    "import boto3\n",
    "import json"
   ]
  },
  {
   "cell_type": "markdown",
   "metadata": {},
   "source": [
    "### `Lambda`"
   ]
  },
  {
   "cell_type": "code",
   "execution_count": null,
   "metadata": {},
   "outputs": [],
   "source": [
    "aws_lambda = boto3.client('lambda')\n",
    "iam_client = boto3.client('iam')\n",
    "role = iam_client.get_role(RoleName='LabRole')\n",
    "\n",
    "# TODO: open the zip file containing your Lambda function\n",
    "with open('<lambda_func_zip>.zip', 'rb') as f:\n",
    "    lambda_zip = f.read()"
   ]
  },
  {
   "cell_type": "code",
   "execution_count": 6,
   "metadata": {},
   "outputs": [
    {
     "data": {
      "text/plain": [
       "'arn:aws:lambda:us-east-1:591015244613:function:lambda_handler'"
      ]
     },
     "execution_count": 6,
     "metadata": {},
     "output_type": "execute_result"
    }
   ],
   "source": [
    "try:\n",
    "    # If function hasn't yet been created, create it\n",
    "    # TODO: replace the placeholders with your function specifics\n",
    "    response = aws_lambda.create_function(\n",
    "        FunctionName='<lambda_function_name>',\n",
    "        Runtime='python3.11',\n",
    "        Role=role['Role']['Arn'],\n",
    "        Handler='<file_name>.<lambda_function_name>',\n",
    "        Code=dict(ZipFile=lambda_zip),\n",
    "        Timeout=300\n",
    "    )\n",
    "except aws_lambda.exceptions.ResourceConflictException:\n",
    "    # If function already exists, update it based on zip\n",
    "    # file contents\n",
    "    response = aws_lambda.update_function_code(\n",
    "        FunctionName='<lambda_function_name>',\n",
    "        ZipFile=lambda_zip\n",
    "        )\n",
    "\n",
    "lambda_arn = response['FunctionArn']\n",
    "lambda_arn"
   ]
  },
  {
   "cell_type": "code",
   "execution_count": 7,
   "metadata": {},
   "outputs": [
    {
     "data": {
      "text/plain": [
       "{'statusCode': 200, 'body': {'pi_estimate': 3.1384, 'num_points': 10000}}"
      ]
     },
     "execution_count": 7,
     "metadata": {},
     "output_type": "execute_result"
    }
   ],
   "source": [
    "# can invoke once serially, or invoke in parallel via Step functions (below)\n",
    "r = aws_lambda.invoke(FunctionName='<lambda_function_name>',\n",
    "                      InvocationType='RequestResponse',\n",
    "                      Payload=json.dumps({'num_points':10000}))\n",
    "json.loads(r['Payload'].read())"
   ]
  },
  {
   "cell_type": "markdown",
   "metadata": {},
   "source": [
    "### `Step` Functions"
   ]
  },
  {
   "cell_type": "code",
   "execution_count": 8,
   "metadata": {},
   "outputs": [],
   "source": [
    "sfn = boto3.client('stepfunctions')\n",
    "\n",
    "def make_def(lambda_arn):\n",
    "    definition = {\n",
    "      \"Comment\": \"My State Machine\",\n",
    "      \"StartAt\": \"Map\",\n",
    "      \"States\": {\n",
    "        \"Map\": {\n",
    "          \"Type\": \"Map\",\n",
    "          \"End\": True,\n",
    "          \"Iterator\": {\n",
    "            \"StartAt\": \"Lambda Invoke\",\n",
    "            \"States\": {\n",
    "              \"Lambda Invoke\": {\n",
    "                \"Type\": \"Task\",\n",
    "                \"Resource\": \"arn:aws:states:::lambda:invoke\",\n",
    "                \"OutputPath\": \"$.Payload\",\n",
    "                \"Parameters\": {\n",
    "                  \"Payload.$\": \"$\",\n",
    "                  \"FunctionName\": lambda_arn\n",
    "                },\n",
    "                \"Retry\": [\n",
    "                  {\n",
    "                    \"ErrorEquals\": [\n",
    "                      \"Lambda.ServiceException\",\n",
    "                      \"Lambda.AWSLambdaException\",\n",
    "                      \"Lambda.SdkClientException\",\n",
    "                      \"Lambda.TooManyRequestsException\",\n",
    "                      \"States.TaskFailed\"\n",
    "                    ],\n",
    "                    \"IntervalSeconds\": 2,\n",
    "                    \"MaxAttempts\": 6,\n",
    "                    \"BackoffRate\": 2\n",
    "                  }\n",
    "                ],\n",
    "                \"End\": True\n",
    "              }\n",
    "            }\n",
    "          }\n",
    "        }\n",
    "      }\n",
    "    }\n",
    "    return definition"
   ]
  },
  {
   "cell_type": "code",
   "execution_count": 24,
   "metadata": {},
   "outputs": [],
   "source": [
    "sf_def = make_def(lambda_arn)\n",
    "\n",
    "try:\n",
    "    response = sfn.create_state_machine(\n",
    "        name='monte_carlo_sm',\n",
    "        definition=json.dumps(sf_def),\n",
    "        roleArn=role['Role']['Arn'],\n",
    "        type='EXPRESS'\n",
    "    )\n",
    "except sfn.exceptions.StateMachineAlreadyExists:\n",
    "    response = sfn.list_state_machines()\n",
    "    state_machine_arn = [sm['stateMachineArn'] \n",
    "                         for sm in response['stateMachines'] \n",
    "                         if sm['name'] == 'monte_carlo_sm'][0]\n",
    "    response = sfn.update_state_machine(\n",
    "        stateMachineArn=state_machine_arn,\n",
    "        definition=json.dumps(sf_def),\n",
    "        roleArn=role['Role']['Arn']\n",
    "    )"
   ]
  },
  {
   "cell_type": "code",
   "execution_count": 29,
   "metadata": {},
   "outputs": [
    {
     "data": {
      "text/plain": [
       "{'stateMachines': [{'stateMachineArn': 'arn:aws:states:us-east-1:591015244613:stateMachine:monte_carlo_sm',\n",
       "   'name': 'monte_carlo_sm',\n",
       "   'type': 'EXPRESS',\n",
       "   'creationDate': datetime.datetime(2024, 4, 4, 15, 41, 36, 496000, tzinfo=tzlocal())}],\n",
       " 'ResponseMetadata': {'RequestId': 'cae953cd-ac02-4754-a371-5feb6c3cb0d8',\n",
       "  'HTTPStatusCode': 200,\n",
       "  'HTTPHeaders': {'x-amzn-requestid': 'cae953cd-ac02-4754-a371-5feb6c3cb0d8',\n",
       "   'date': 'Thu, 04 Apr 2024 20:59:48 GMT',\n",
       "   'content-type': 'application/x-amz-json-1.0',\n",
       "   'content-length': '180',\n",
       "   'connection': 'keep-alive'},\n",
       "  'RetryAttempts': 0}}"
      ]
     },
     "execution_count": 29,
     "metadata": {},
     "output_type": "execute_result"
    }
   ],
   "source": [
    "response = sfn.list_state_machines()\n",
    "response"
   ]
  },
  {
   "cell_type": "code",
   "execution_count": null,
   "metadata": {},
   "outputs": [],
   "source": [
    "state_machine_arn = [sm['stateMachineArn'] \n",
    "                     for sm in response['stateMachines'] \n",
    "                     if sm['name'] == 'monte_carlo_sm'][0]\n",
    "\n",
    "# Do not invoke more than 10 workers at a time or you risk your AWS Academy account being deactivated\n",
    "# here, we (conservatively) only concurrently invoke lambda function 5 times\n",
    "data = [{\"num_points\": i} for i in range(1495, 1500)]\n",
    "data # note 5 distinct tasks (mapping onto 5 distinct Lambda invocations)"
   ]
  },
  {
   "cell_type": "code",
   "execution_count": null,
   "metadata": {},
   "outputs": [],
   "source": [
    "sfn_response = sfn.start_sync_execution(\n",
    "    stateMachineArn=state_machine_arn,\n",
    "    name='sync_test',\n",
    "    input=json.dumps(data)\n",
    ")\n",
    "\n",
    "print(sfn_response['output'])"
   ]
  },
  {
   "cell_type": "code",
   "execution_count": 31,
   "metadata": {},
   "outputs": [
    {
     "name": "stdout",
     "output_type": "stream",
     "text": [
      "3.143235340481622\n"
     ]
    }
   ],
   "source": [
    "pi_sum, counter = 0, 0\n",
    "\n",
    "for thread in json.loads(sfn_response['output']):\n",
    "    pi_sum += thread['body']['pi_estimate']\n",
    "    counter += 1\n",
    "\n",
    "print(pi_sum/counter)"
   ]
  }
 ],
 "metadata": {
  "kernelspec": {
   "display_name": "base",
   "language": "python",
   "name": "python3"
  },
  "language_info": {
   "codemirror_mode": {
    "name": "ipython",
    "version": 3
   },
   "file_extension": ".py",
   "mimetype": "text/x-python",
   "name": "python",
   "nbconvert_exporter": "python",
   "pygments_lexer": "ipython3",
   "version": "3.11.4"
  }
 },
 "nbformat": 4,
 "nbformat_minor": 2
}
